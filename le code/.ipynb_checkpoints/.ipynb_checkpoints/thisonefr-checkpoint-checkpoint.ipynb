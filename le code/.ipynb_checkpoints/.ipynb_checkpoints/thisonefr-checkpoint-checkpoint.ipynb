{
 "cells": [
  {
   "cell_type": "code",
   "execution_count": 1,
   "id": "63d10395-30e2-45b4-b287-94280bf3f2ee",
   "metadata": {},
   "outputs": [],
   "source": [
    "import pandas as pd\n",
    "import numpy as np\n",
    "import matplotlib.pyplot as plt\n",
    "from sklearn.model_selection import train_test_split\n",
    "from sklearn.ensemble import RandomForestRegressor\n",
    "from sklearn.metrics import mean_squared_error\n",
    "from math import sqrt\n",
    "from statistics import mean\n",
    "\n",
    "import requests"
   ]
  },
  {
   "cell_type": "markdown",
   "id": "09fd085a-9c17-4c3a-b718-917f2c665639",
   "metadata": {},
   "source": [
    "Data for evaluating careers of NFL WR's:"
   ]
  },
  {
   "cell_type": "code",
   "execution_count": 2,
   "id": "fda00273-32bb-484d-bf68-7022b86d124d",
   "metadata": {},
   "outputs": [],
   "source": [
    "le_data = pd.read_csv('Data/yearly_stats.csv', dtype={'height': str}, parse_dates= False)\n",
    "#issue as orignally I thought pandas was interpreting height as a date, but the csv is reporting heights as dates\n",
    "\n",
    "#filter for WR postion since that is all we care about\n",
    "\n",
    "WR_data = le_data[le_data['position'] == 'WR']\n",
    "\n",
    "#lets only return relevant columns (recieving production)\n",
    "\n",
    "WR_data = WR_data[['id', 'name', 'position', 'team', 'season', 'season_type',\n",
    "         'receptions', 'targets', 'receiving_yards',\n",
    "       'receiving_tds','receiving_yards_after_catch',\n",
    "       'receiving_first_downs','target_share',\n",
    "       'air_yards_share', 'fantasy_points', 'fantasy_points_ppr',\n",
    "         'games', 'offense_snaps', 'teams_offense_snaps',\n",
    "       'ypr','rec_td_percentage','rec_ypg',\n",
    "         'round', 'overall', 'ht', 'wt', 'forty', 'vertical']]\n",
    "\n"
   ]
  },
  {
   "cell_type": "code",
   "execution_count": 3,
   "id": "283fa89d-8233-4604-89bd-60e43f454d7e",
   "metadata": {},
   "outputs": [],
   "source": [
    "#madden 21 ratings for WRs (2020 NFL season)\n",
    "madden21 = pd.read_csv('Data/maddenratings/madden21_ratings.csv')\n",
    "madden21 = madden21[['Full Name', 'Overall Rating', 'Position']]\n",
    "madden21WR = madden21[madden21['Position'] == 'WR']\n",
    "madden21WR = madden21WR[['Full Name', 'Overall Rating']]\n",
    "\n",
    "#add the season\n",
    "madden21WR['season'] = 2019\n",
    "madden21WR['season'] = madden21WR['season'].astype(int)\n",
    "\n",
    "#renaming the 'Full Name' column to 'name' so it merge with WR_data easier\n",
    "madden21WR.rename(columns = {'Full Name': 'name'}, inplace= True)\n",
    "\n",
    "#madden21WR"
   ]
  },
  {
   "cell_type": "code",
   "execution_count": 4,
   "id": "1e718929-1930-4c3d-8a8a-072b620c3162",
   "metadata": {},
   "outputs": [],
   "source": [
    "WR_data2 = pd.merge(WR_data, madden21WR, on= ['name', 'season'], how='left')"
   ]
  },
  {
   "cell_type": "code",
   "execution_count": 5,
   "id": "1cbe4f25-d048-4342-8fb0-34b968a32887",
   "metadata": {},
   "outputs": [],
   "source": [
    "#madden 23 ratings for WRs (2022 NFL season)\n",
    "madden23 = pd.read_csv('Data/maddenratings/Madden23Ratings.csv')\n",
    "madden23 = madden23[['fullNameForSearch','position','overall_rating']]\n",
    "madden23 = madden23[madden23['position'] == 'WR']\n",
    "madden23 = madden23[['fullNameForSearch','overall_rating']]\n",
    "\n",
    "#add the season\n",
    "madden23['season'] = 2021\n",
    "madden23['season'] = madden23['season'].astype(int) #not sure if this is necessary but wtv\n",
    "\n",
    "#renaming columns for merge\n",
    "\n",
    "madden23.rename(columns = {'fullNameForSearch':'name', 'overall_rating':'Overall Rating'}, inplace=True)"
   ]
  },
  {
   "cell_type": "code",
   "execution_count": 6,
   "id": "0cdefa7b-2d04-46be-bde1-53db05a1f4fd",
   "metadata": {},
   "outputs": [],
   "source": [
    "WR_data3 = pd.merge(WR_data2, madden23, on = ['name','season'], how= 'left')\n",
    "\n",
    "WR_data3['Overall Rating'] = np.where(WR_data3['season'] == 2019, \n",
    "                                      WR_data3['Overall Rating_x'], \n",
    "                                      np.where(WR_data3['season'] == 2021, \n",
    "                                               WR_data3['Overall Rating_y'], \n",
    "                                               np.nan))\n",
    "\n",
    "WR_data3.drop(columns=['Overall Rating_x', 'Overall Rating_y'], inplace=True)"
   ]
  },
  {
   "cell_type": "code",
   "execution_count": 7,
   "id": "87d4c942-9dea-4db4-ab78-1b646af6524a",
   "metadata": {},
   "outputs": [],
   "source": [
    "madden24 = pd.read_csv('Data/maddenratings/madden24.csv')\n",
    "madden24 = madden24[['Full Name', 'Position', 'Overall Rating']]\n",
    "madden24 = madden24[madden24['Position'] == 'WR']\n",
    "madden24 = madden24[['Full Name', 'Overall Rating']]\n",
    "\n",
    "#add season\n",
    "madden24['season'] = 2022\n",
    "madden24['season'] = madden24['season'].astype(int)\n",
    "\n",
    "#rename columns\n",
    "madden24.rename(columns = {'Full Name':'name'}, inplace=True)"
   ]
  },
  {
   "cell_type": "code",
   "execution_count": 8,
   "id": "d2cf23a9-46cd-4ca8-83f4-4b1942047e10",
   "metadata": {},
   "outputs": [],
   "source": [
    "WR_data4 = pd.merge(WR_data3, madden24, on = ['name','season'], how = 'left',suffixes=('', '_2023'))\n",
    "\n",
    "WR_data4['Overall Rating'] = np.where(WR_data4['season'] == 2022, \n",
    "                                      WR_data4['Overall Rating_2023'], \n",
    "                                      WR_data4['Overall Rating'])\n",
    "\n",
    "WR_data4.drop(columns=['Overall Rating_2023'], inplace=True)\n",
    "\n"
   ]
  },
  {
   "cell_type": "code",
   "execution_count": 9,
   "id": "717328b9-aeb6-4170-8471-8626c78cb2ca",
   "metadata": {},
   "outputs": [],
   "source": [
    "madden22 = pd.read_excel('Data/maddenratings/datatime.xlsx', sheet_name = 'All Players', skiprows = 1)\n",
    "madden22 = madden22[['First Name', 'Last Name', 'Position', 'Overall']]\n",
    "madden22 = madden22[madden22['Position'] == 'WR']\n",
    "madden22 = madden22[['First Name', 'Last Name', 'Overall']]\n",
    "\n",
    "#create new name columm\n",
    "madden22['name'] = madden22['First Name'] + ' ' + madden22['Last Name']\n",
    "\n",
    "# add season\n",
    "madden22['season'] = 2020\n",
    "madden22['season'] = madden22['season'].astype(int)\n",
    "\n",
    "#drop first name last name\n",
    "madden22 = madden22.drop(columns = ['First Name', 'Last Name'])\n",
    "\n",
    "#rename columns\n",
    "madden22.rename(columns = {'Overall': 'Overall Rating'}, inplace= True)"
   ]
  },
  {
   "cell_type": "code",
   "execution_count": 10,
   "id": "d383638c-02f6-47a8-99c0-0e7582166c11",
   "metadata": {},
   "outputs": [],
   "source": [
    "WR_data_final = pd.merge(WR_data4, madden22, on= ['name','season'], how = 'left',suffixes=('', '_2022'))\n",
    "\n",
    "\n",
    "WR_data_final['Overall Rating'] = np.where(WR_data_final['season'] == 2020,\n",
    "                                           WR_data_final['Overall Rating_2022'],\n",
    "                                           WR_data_final['Overall Rating'])\n",
    "\n",
    "WR_data_final.drop(columns = ['Overall Rating_2022'], inplace= True)\n"
   ]
  },
  {
   "cell_type": "code",
   "execution_count": null,
   "id": "186f6a9f-c98b-4c09-8c03-a1eeb2a2fa82",
   "metadata": {},
   "outputs": [],
   "source": []
  },
  {
   "cell_type": "code",
   "execution_count": null,
   "id": "e9aa747e-4e5d-4a96-b194-57061983a42c",
   "metadata": {},
   "outputs": [],
   "source": []
  },
  {
   "cell_type": "code",
   "execution_count": null,
   "id": "3bc98ae2-8c69-43f3-8e02-3ac1003d9e60",
   "metadata": {},
   "outputs": [],
   "source": []
  }
 ],
 "metadata": {
  "kernelspec": {
   "display_name": "Python 3 (ipykernel)",
   "language": "python",
   "name": "python3"
  },
  "language_info": {
   "codemirror_mode": {
    "name": "ipython",
    "version": 3
   },
   "file_extension": ".py",
   "mimetype": "text/x-python",
   "name": "python",
   "nbconvert_exporter": "python",
   "pygments_lexer": "ipython3",
   "version": "3.11.6"
  }
 },
 "nbformat": 4,
 "nbformat_minor": 5
}
