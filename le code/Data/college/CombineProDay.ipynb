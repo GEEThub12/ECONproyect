{
 "cells": [
  {
   "cell_type": "code",
   "execution_count": 4,
   "id": "66290853-e0ef-48b7-b54f-57e596e0baac",
   "metadata": {},
   "outputs": [],
   "source": [
    "import pandas as pd\n",
    "import numpy as np\n",
    "import matplotlib.pyplot as plt\n",
    "from sklearn.model_selection import train_test_split\n",
    "from sklearn.ensemble import RandomForestRegressor\n",
    "from sklearn.metrics import mean_squared_error\n",
    "from math import sqrt\n",
    "from statistics import mean\n",
    "\n",
    "import requests"
   ]
  },
  {
   "cell_type": "code",
   "execution_count": 7,
   "id": "5c30ddee-9c79-4027-9fb9-cef6cfe2a941",
   "metadata": {
    "scrolled": true
   },
   "outputs": [],
   "source": [
    "all_combine = pd.read_excel('combinedata.xlsx')\n",
    "\n",
    "all_combine.iloc[133,1] = 'CeeDee Lamb'\n",
    "all_combine.iloc[85,5] = 166\n",
    "all_combine.iloc[49,9] = 4.38"
   ]
  },
  {
   "cell_type": "code",
   "execution_count": 16,
   "id": "8494a7da-d169-49f4-b6ff-f10129a018dc",
   "metadata": {},
   "outputs": [
    {
     "data": {
      "text/html": [
       "<div>\n",
       "<style scoped>\n",
       "    .dataframe tbody tr th:only-of-type {\n",
       "        vertical-align: middle;\n",
       "    }\n",
       "\n",
       "    .dataframe tbody tr th {\n",
       "        vertical-align: top;\n",
       "    }\n",
       "\n",
       "    .dataframe thead th {\n",
       "        text-align: right;\n",
       "    }\n",
       "</style>\n",
       "<table border=\"1\" class=\"dataframe\">\n",
       "  <thead>\n",
       "    <tr style=\"text-align: right;\">\n",
       "      <th></th>\n",
       "      <th>Year</th>\n",
       "      <th>Name</th>\n",
       "      <th>College</th>\n",
       "      <th>POS</th>\n",
       "      <th>Height (in)</th>\n",
       "      <th>Weight (lbs)</th>\n",
       "      <th>Hand Size (in)</th>\n",
       "      <th>Arm Length (in)</th>\n",
       "      <th>Wonderlic</th>\n",
       "      <th>Forty time</th>\n",
       "      <th>Bench Press</th>\n",
       "      <th>Vert Leap (in)</th>\n",
       "      <th>Broad Jump (in)</th>\n",
       "      <th>Shuttle</th>\n",
       "      <th>Three Cone</th>\n",
       "    </tr>\n",
       "  </thead>\n",
       "  <tbody>\n",
       "    <tr>\n",
       "      <th>38</th>\n",
       "      <td>2022</td>\n",
       "      <td>Jameson Williams</td>\n",
       "      <td>Alabama</td>\n",
       "      <td>WR</td>\n",
       "      <td>73.5</td>\n",
       "      <td>179</td>\n",
       "      <td>9.25</td>\n",
       "      <td>32.13</td>\n",
       "      <td>NaN</td>\n",
       "      <td>NaN</td>\n",
       "      <td>NaN</td>\n",
       "      <td>NaN</td>\n",
       "      <td>NaN</td>\n",
       "      <td>NaN</td>\n",
       "      <td>NaN</td>\n",
       "    </tr>\n",
       "  </tbody>\n",
       "</table>\n",
       "</div>"
      ],
      "text/plain": [
       "    Year              Name  College POS  Height (in)  Weight (lbs)  \\\n",
       "38  2022  Jameson Williams  Alabama  WR         73.5           179   \n",
       "\n",
       "    Hand Size (in)  Arm Length (in)  Wonderlic  Forty time  Bench Press  \\\n",
       "38            9.25            32.13        NaN         NaN          NaN   \n",
       "\n",
       "    Vert Leap (in)  Broad Jump (in)  Shuttle  Three Cone  \n",
       "38             NaN              NaN      NaN         NaN  "
      ]
     },
     "execution_count": 16,
     "metadata": {},
     "output_type": "execute_result"
    }
   ],
   "source": [
    "all_combine[all_combine['Name'] == 'Jameson Williams']"
   ]
  },
  {
   "cell_type": "code",
   "execution_count": null,
   "id": "044b7616-f41b-4f0c-91a6-aa5a2a66f512",
   "metadata": {},
   "outputs": [],
   "source": []
  }
 ],
 "metadata": {
  "kernelspec": {
   "display_name": "Python 3 (ipykernel)",
   "language": "python",
   "name": "python3"
  },
  "language_info": {
   "codemirror_mode": {
    "name": "ipython",
    "version": 3
   },
   "file_extension": ".py",
   "mimetype": "text/x-python",
   "name": "python",
   "nbconvert_exporter": "python",
   "pygments_lexer": "ipython3",
   "version": "3.11.6"
  }
 },
 "nbformat": 4,
 "nbformat_minor": 5
}
